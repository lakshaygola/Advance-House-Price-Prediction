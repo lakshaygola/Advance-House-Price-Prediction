{
  "cells": [
    {
      "cell_type": "markdown",
      "metadata": {
        "id": "view-in-github",
        "colab_type": "text"
      },
      "source": [
        "<a href=\"https://colab.research.google.com/github/lakshaygola/Advance-House-Price-Prediction/blob/main/web_scraping.ipynb\" target=\"_parent\"><img src=\"https://colab.research.google.com/assets/colab-badge.svg\" alt=\"Open In Colab\"/></a>"
      ]
    },
    {
      "cell_type": "markdown",
      "metadata": {
        "id": "L-62dAvIsOe9"
      },
      "source": [
        "# Data and Web Scraping Internship Project\n",
        "\n",
        "In this we gonna scrap the website - https://materialdepot.in/\n",
        "\n",
        "And we gonna store all the data of the products in the website in the CVS file format. "
      ]
    },
    {
      "cell_type": "code",
      "execution_count": null,
      "metadata": {
        "colab": {
          "base_uri": "https://localhost:8080/",
          "height": 181
        },
        "id": "d39QofLGsOe4",
        "outputId": "45017973-ccdd-4117-a969-310d078fd56e"
      },
      "outputs": [
        {
          "output_type": "stream",
          "name": "stdout",
          "text": [
            "\u001b[?25l\r\u001b[K     |████▊                           | 10 kB 29.7 MB/s eta 0:00:01\r\u001b[K     |█████████▌                      | 20 kB 36.0 MB/s eta 0:00:01\r\u001b[K     |██████████████▎                 | 30 kB 23.3 MB/s eta 0:00:01\r\u001b[K     |███████████████████             | 40 kB 18.3 MB/s eta 0:00:01\r\u001b[K     |███████████████████████▉        | 51 kB 9.2 MB/s eta 0:00:01\r\u001b[K     |████████████████████████████▋   | 61 kB 9.2 MB/s eta 0:00:01\r\u001b[K     |████████████████████████████████| 68 kB 4.7 MB/s \n",
            "\u001b[?25h  Building wheel for uuid (setup.py) ... \u001b[?25l\u001b[?25hdone\n",
            "[jovian] Detected Colab notebook...\u001b[0m\n",
            "[jovian] Please enter your API key ( from https://jovian.ai/ ):\u001b[0m\n",
            "API KEY: ··········\n",
            "[jovian] Uploading colab notebook to Jovian...\u001b[0m\n"
          ]
        },
        {
          "output_type": "stream",
          "name": "stderr",
          "text": [
            "\u001b[31m[jovian] Error: Looks like the notebook is missing output cells, please save the notebook and try jovian.commit again.\u001b[0m\n"
          ]
        },
        {
          "output_type": "stream",
          "name": "stdout",
          "text": [
            "Committed successfully! https://jovian.ai/lakshaygola/web-scraping\n"
          ]
        },
        {
          "output_type": "execute_result",
          "data": {
            "application/vnd.google.colaboratory.intrinsic+json": {
              "type": "string"
            },
            "text/plain": [
              "'https://jovian.ai/lakshaygola/web-scraping'"
            ]
          },
          "metadata": {},
          "execution_count": 1
        }
      ],
      "source": [
        "# Jovian Commit Essentials\n",
        "# Please retain and execute this cell without modifying the contents for `jovian.commit` to work\n",
        "!pip install jovian --upgrade -q\n",
        "!pip install jovian --upgrade --quiet\n",
        "import jovian\n",
        "jovian.set_project('web-scraping')\n",
        "jovian.set_colab_id('1VkwA2K1IHBZMFM25PLbGAb6CGYx77I8D')\n",
        "\n",
        "# Execute this to save new versions of the notebook\n",
        "jovian.commit(project=\"web-scraping\")"
      ]
    },
    {
      "cell_type": "markdown",
      "metadata": {
        "id": "PR15X3L-tGaY"
      },
      "source": [
        "# Project Outline:\n",
        "1. We're going to scrape https://materialdepot.in/ this website.\n",
        "2. The data which we gonna scrape will contain the following information for all of the products\n",
        "\n",
        "  LINK\n",
        "\n",
        "  TITLE\n",
        "\n",
        "  BREADCRUMB\n",
        "  \n",
        "  VENDOR \n",
        "  \n",
        "  SKU\n",
        "  \n",
        "  IMAGES \n",
        "  \n",
        "  DESCRIPTION \n",
        "  \n",
        "  SPECIFICATION\n",
        "\n",
        "3. Then we'll convert or store that data into the well format CSV file\n",
        "\n",
        "4. Format of the CSV file is:\n",
        "\n",
        "```\n",
        "LINK TITLE BREADCRUMB VENDOR SKU IMAGES DESCRIPTION SPECIFICATION\n",
        "https://materialdepot.in/collections/carpet/products/carpets-chintz-collection-golden-carpets-brown,Chintz Collection Carpets by Golden Carpets Ltd,Home->Carpets->Chintz Collection Carpets by Golden C.,vendor, WBF256256-Royal Blue, Images, 2 ply yarn construction for longer durability, Backing Type - Latex, Odour less, Stain resistant\n",
        "```\n"
      ]
    },
    {
      "cell_type": "code",
      "execution_count": null,
      "metadata": {
        "id": "GijbTsq00PB9",
        "colab": {
          "base_uri": "https://localhost:8080/"
        },
        "outputId": "cb619c58-5d2d-47a8-d39f-7cf250f6109c"
      },
      "outputs": [
        {
          "output_type": "stream",
          "name": "stdout",
          "text": [
            "\u001b[?25l\r\u001b[K     |███▍                            | 10 kB 24.3 MB/s eta 0:00:01\r\u001b[K     |██████▊                         | 20 kB 30.0 MB/s eta 0:00:01\r\u001b[K     |██████████                      | 30 kB 10.6 MB/s eta 0:00:01\r\u001b[K     |█████████████▌                  | 40 kB 10.8 MB/s eta 0:00:01\r\u001b[K     |████████████████▉               | 51 kB 10.1 MB/s eta 0:00:01\r\u001b[K     |████████████████████▏           | 61 kB 9.2 MB/s eta 0:00:01\r\u001b[K     |███████████████████████▌        | 71 kB 7.2 MB/s eta 0:00:01\r\u001b[K     |███████████████████████████     | 81 kB 8.0 MB/s eta 0:00:01\r\u001b[K     |██████████████████████████████▎ | 92 kB 8.3 MB/s eta 0:00:01\r\u001b[K     |████████████████████████████████| 97 kB 3.8 MB/s \n",
            "\u001b[?25h"
          ]
        }
      ],
      "source": [
        "!pip install beautifulsoup4 --upgrade --quiet"
      ]
    },
    {
      "cell_type": "code",
      "execution_count": null,
      "metadata": {
        "id": "dqDVdXrUsOfA"
      },
      "outputs": [],
      "source": [
        "import requests as r\n",
        "from bs4 import BeautifulSoup\n",
        "import pandas as pd"
      ]
    },
    {
      "cell_type": "code",
      "execution_count": null,
      "metadata": {
        "id": "95K4bguC2D6y"
      },
      "outputs": [],
      "source": [
        "# Fetching the web page\n",
        "topic_url = 'https://materialdepot.in/collections'"
      ]
    },
    {
      "cell_type": "code",
      "execution_count": null,
      "metadata": {
        "id": "VZuxjdAlsOfB"
      },
      "outputs": [],
      "source": [
        "response = r.get(topic_url)"
      ]
    },
    {
      "cell_type": "code",
      "execution_count": null,
      "metadata": {
        "colab": {
          "base_uri": "https://localhost:8080/"
        },
        "id": "Ij_SNrfcxnYh",
        "outputId": "12b985fa-c4fe-462b-9efe-45d7ec0c414c"
      },
      "outputs": [
        {
          "output_type": "execute_result",
          "data": {
            "text/plain": [
              "200"
            ]
          },
          "metadata": {},
          "execution_count": 6
        }
      ],
      "source": [
        "# Checking the status of the page\n",
        "response.status_code"
      ]
    },
    {
      "cell_type": "code",
      "execution_count": null,
      "metadata": {
        "id": "qrJRSwC0xqc_"
      },
      "outputs": [],
      "source": [
        "# Get the HTML content of the page\n",
        "page_content = response.text"
      ]
    },
    {
      "cell_type": "code",
      "execution_count": null,
      "metadata": {
        "colab": {
          "base_uri": "https://localhost:8080/"
        },
        "id": "L8qw41q2ztAh",
        "outputId": "bb509a75-be16-4728-9c2e-11b4c17f923c"
      },
      "outputs": [
        {
          "output_type": "execute_result",
          "data": {
            "text/plain": [
              "151818"
            ]
          },
          "metadata": {},
          "execution_count": 8
        }
      ],
      "source": [
        "len(page_content)"
      ]
    },
    {
      "cell_type": "code",
      "execution_count": null,
      "metadata": {
        "colab": {
          "base_uri": "https://localhost:8080/"
        },
        "id": "uiTwIBmWzuyZ",
        "outputId": "4195c843-3b2b-4b46-ed9c-b1bd58d831ce"
      },
      "outputs": [
        {
          "output_type": "stream",
          "name": "stdout",
          "text": [
            "<!doctype html>\n",
            "\n",
            "<html class=\"no-js\" lang=\"en\">\n",
            "  <head>\n",
            "    <meta charset=\"utf-8\">\n",
            "    <meta name=\"viewport\" content=\"width=device-width, initial-scale=1.0, height=device-height, minimum-scale=1.0, maximum-scale=5.0\">\n",
            "    <meta name=\"theme-color\" content=\"#6b5f51\">\n",
            "    <meta name=\"p:domain_verify\" content=\"fd8d04dc75027dbe712c288f38201727\"/>\n",
            "    <script type=\"application/ld+json\">\n",
            "  {\n",
            "    \"@context\": \"https://schema.org\",\n",
            "    \"@type\": \"Organization\",\n",
            "    \"name\": \"Material Depot\",\n",
            "    \"alternateName\": \"MaterialDepot\",\n",
            "    \"url\": \"https://materialdepot.in/\",\n",
            "    \"logo\": \"https://materialdepotimages.s3.ap-south-1.amazonaws.com/Admin/MD_Logo.png\",\n",
            "    \"contactPoint\": {\n",
            "      \"@type\": \"ContactPoint\",\n",
            "      \"telephone\": \"9502020945\",\n",
            "      \"contactType\": \"customer service\",\n",
            "      \"areaServed\": \"IN\",\n",
            "      \"availableLanguage\": [\"en\", \"Hindi\"]\n",
            "    },\n",
            "    \"sameAs\": [\n",
            "      \"https://www.facebook.com/materialdepot\",\n",
            "      \"https://twitter.com/materialdepot\",\n",
            "      \"https://www.instagram.com/mate\n"
          ]
        }
      ],
      "source": [
        "print(page_content[:1000])"
      ]
    },
    {
      "cell_type": "code",
      "execution_count": null,
      "metadata": {
        "id": "8IV3sOJWzyEh"
      },
      "outputs": [],
      "source": [
        "with open('materialdepot.html', 'w') as f:\n",
        "  f.write(page_content)"
      ]
    },
    {
      "cell_type": "code",
      "execution_count": null,
      "metadata": {
        "id": "2KvnKpf4bNWX"
      },
      "outputs": [],
      "source": [
        "# Let's create the parse doucment of HTML file so that we can search in it and get what we need\n",
        "home_doc = BeautifulSoup(page_content, 'html.parser')"
      ]
    },
    {
      "cell_type": "code",
      "execution_count": null,
      "metadata": {
        "id": "c2WEZkLIbkcd"
      },
      "outputs": [],
      "source": [
        "# As material topic is inside p tags. Search all the p tag in the document \n",
        "product_category = home_doc.find_all('p', {'class':'collection-block-item__title heading h2'})"
      ]
    },
    {
      "cell_type": "code",
      "execution_count": null,
      "metadata": {
        "colab": {
          "base_uri": "https://localhost:8080/"
        },
        "id": "ycb7IzaufFr8",
        "outputId": "3db237e1-b640-4e19-8790-e1daa2560c9f"
      },
      "outputs": [
        {
          "output_type": "execute_result",
          "data": {
            "text/plain": [
              "12"
            ]
          },
          "metadata": {},
          "execution_count": 13
        }
      ],
      "source": [
        "len(product_category)"
      ]
    },
    {
      "cell_type": "code",
      "execution_count": null,
      "metadata": {
        "colab": {
          "base_uri": "https://localhost:8080/"
        },
        "id": "42o-TSgMfI5z",
        "outputId": "d21352f0-1e15-40c8-c154-6afe0bd5e51e"
      },
      "outputs": [
        {
          "output_type": "execute_result",
          "data": {
            "text/plain": [
              "[<p class=\"collection-block-item__title heading h2\">Bamboo Flooring</p>,\n",
              " <p class=\"collection-block-item__title heading h2\">Carpets</p>,\n",
              " <p class=\"collection-block-item__title heading h2\">Curtains</p>,\n",
              " <p class=\"collection-block-item__title heading h2\">Flooring</p>,\n",
              " <p class=\"collection-block-item__title heading h2\">GPG</p>,\n",
              " <p class=\"collection-block-item__title heading h2\">Granite</p>,\n",
              " <p class=\"collection-block-item__title heading h2\">Laminate Flooring</p>,\n",
              " <p class=\"collection-block-item__title heading h2\">Laminates</p>,\n",
              " <p class=\"collection-block-item__title heading h2\">Marbles</p>,\n",
              " <p class=\"collection-block-item__title heading h2\">Veneers</p>,\n",
              " <p class=\"collection-block-item__title heading h2\">Wallpaper</p>,\n",
              " <p class=\"collection-block-item__title heading h2\">Windows &amp; Doors</p>]"
            ]
          },
          "metadata": {},
          "execution_count": 14
        }
      ],
      "source": [
        "product_category"
      ]
    },
    {
      "cell_type": "code",
      "execution_count": null,
      "metadata": {
        "colab": {
          "base_uri": "https://localhost:8080/"
        },
        "id": "Sp2b2BFSmigU",
        "outputId": "14acb41a-6589-42f1-d7ed-9517497c9700"
      },
      "outputs": [
        {
          "output_type": "execute_result",
          "data": {
            "text/plain": [
              "<div class=\"grid__cell 1/2--tablet 1/3--lap-and-up\">\n",
              "<a class=\"home_cat_btn collection-block-item collection-block-item--overlay\" href=\"/collections/bamboo-flooring\">\n",
              "<div class=\"aspect-ratio\" style=\"padding-bottom: 45%\">\n",
              "<div class=\"collection-block-item__image lazyload image--fade-in\" data-bg=\"//cdn.shopify.com/s/files/1/0577/4242/6264/collections/WhatsApp_Image_2021-08-13_at_01.59.05_850x.jpg?v=1628800785\"></div>\n",
              "</div><p class=\"collection-block-item__title heading h2\">Bamboo Flooring</p></a>\n",
              "</div>"
            ]
          },
          "metadata": {},
          "execution_count": 15
        }
      ],
      "source": [
        "# Getting the parent tags\n",
        "product_category[0].parent.parent"
      ]
    },
    {
      "cell_type": "code",
      "execution_count": null,
      "metadata": {
        "id": "p3QZX11Fz0xy",
        "colab": {
          "base_uri": "https://localhost:8080/"
        },
        "outputId": "e64b5fb5-a452-4320-d9a6-f0d43df7be52"
      },
      "outputs": [
        {
          "output_type": "execute_result",
          "data": {
            "text/plain": [
              "['Bamboo Flooring',\n",
              " 'Carpets',\n",
              " 'Curtains',\n",
              " 'Flooring',\n",
              " 'GPG',\n",
              " 'Granite',\n",
              " 'Laminate Flooring',\n",
              " 'Laminates',\n",
              " 'Marbles',\n",
              " 'Veneers',\n",
              " 'Wallpaper',\n",
              " 'Windows & Doors']"
            ]
          },
          "metadata": {},
          "execution_count": 16
        }
      ],
      "source": [
        "# Creating the list of all the product category\n",
        "category_type = []\n",
        "\n",
        "for material in product_category:\n",
        "  category_type.append(material.text)\n",
        "  \n",
        "category_type"
      ]
    },
    {
      "cell_type": "code",
      "execution_count": null,
      "metadata": {
        "id": "6YmZCwgVfxtd"
      },
      "outputs": [],
      "source": [
        "# Getting the urls for each category\n",
        "category_urls = home_doc.find_all('a', {'class' : 'home_cat_btn collection-block-item collection-block-item--overlay'})"
      ]
    },
    {
      "cell_type": "code",
      "execution_count": null,
      "metadata": {
        "colab": {
          "base_uri": "https://localhost:8080/"
        },
        "id": "dMzC604em92Y",
        "outputId": "033b26ac-097d-4af7-b6e8-ea53352de6a4"
      },
      "outputs": [
        {
          "output_type": "execute_result",
          "data": {
            "text/plain": [
              "12"
            ]
          },
          "metadata": {},
          "execution_count": 18
        }
      ],
      "source": [
        "len(category_urls)"
      ]
    },
    {
      "cell_type": "code",
      "execution_count": null,
      "metadata": {
        "colab": {
          "base_uri": "https://localhost:8080/",
          "height": 36
        },
        "id": "aEE3AyeTnBfK",
        "outputId": "c4134b4c-6bbb-4a4a-d2a7-5ccaf9b7f413"
      },
      "outputs": [
        {
          "output_type": "execute_result",
          "data": {
            "application/vnd.google.colaboratory.intrinsic+json": {
              "type": "string"
            },
            "text/plain": [
              "'/collections/bamboo-flooring'"
            ]
          },
          "metadata": {},
          "execution_count": 19
        }
      ],
      "source": [
        "category_urls[0]['href']"
      ]
    },
    {
      "cell_type": "code",
      "execution_count": null,
      "metadata": {
        "id": "k-fpn40ynD2s"
      },
      "outputs": [],
      "source": [
        "# Creating the list of all the material urls\n",
        "base_url = 'https://materialdepot.in'\n",
        "complete_category_urls = []\n",
        "\n",
        "for urls in category_urls:\n",
        "  complete_category_urls.append(base_url + urls['href'])"
      ]
    },
    {
      "cell_type": "code",
      "execution_count": null,
      "metadata": {
        "colab": {
          "base_uri": "https://localhost:8080/"
        },
        "id": "Zxorzp4r0j3I",
        "outputId": "f7210aad-594c-4923-8373-1665fdca11f8"
      },
      "outputs": [
        {
          "output_type": "execute_result",
          "data": {
            "text/plain": [
              "['https://materialdepot.in/collections/bamboo-flooring',\n",
              " 'https://materialdepot.in/collections/carpet',\n",
              " 'https://materialdepot.in/collections/fabrics',\n",
              " 'https://materialdepot.in/collections/flooring',\n",
              " 'https://materialdepot.in/collections/gpg',\n",
              " 'https://materialdepot.in/collections/granite',\n",
              " 'https://materialdepot.in/collections/laminate-flooring',\n",
              " 'https://materialdepot.in/collections/laminates',\n",
              " 'https://materialdepot.in/collections/marble',\n",
              " 'https://materialdepot.in/collections/veneers',\n",
              " 'https://materialdepot.in/collections/wallpaper',\n",
              " 'https://materialdepot.in/collections/windows']"
            ]
          },
          "metadata": {},
          "execution_count": 21
        }
      ],
      "source": [
        "complete_category_urls"
      ]
    },
    {
      "cell_type": "code",
      "execution_count": null,
      "metadata": {
        "id": "0nyszjw52BsE"
      },
      "outputs": [],
      "source": [
        "# Temp dict contain title of the category and the urls \n",
        "temp_dict = {\n",
        "    \"Titles\" : category_type,\n",
        "    \"URLs\" : complete_category_urls\n",
        "}"
      ]
    },
    {
      "cell_type": "code",
      "execution_count": null,
      "metadata": {
        "colab": {
          "base_uri": "https://localhost:8080/"
        },
        "id": "w_ECZZjR2QeG",
        "outputId": "4c90a67e-51be-4d91-f54d-178c11951b2f"
      },
      "outputs": [
        {
          "output_type": "execute_result",
          "data": {
            "text/plain": [
              "{'Titles': ['Bamboo Flooring',\n",
              "  'Carpets',\n",
              "  'Curtains',\n",
              "  'Flooring',\n",
              "  'GPG',\n",
              "  'Granite',\n",
              "  'Laminate Flooring',\n",
              "  'Laminates',\n",
              "  'Marbles',\n",
              "  'Veneers',\n",
              "  'Wallpaper',\n",
              "  'Windows & Doors'],\n",
              " 'URLs': ['https://materialdepot.in/collections/bamboo-flooring',\n",
              "  'https://materialdepot.in/collections/carpet',\n",
              "  'https://materialdepot.in/collections/fabrics',\n",
              "  'https://materialdepot.in/collections/flooring',\n",
              "  'https://materialdepot.in/collections/gpg',\n",
              "  'https://materialdepot.in/collections/granite',\n",
              "  'https://materialdepot.in/collections/laminate-flooring',\n",
              "  'https://materialdepot.in/collections/laminates',\n",
              "  'https://materialdepot.in/collections/marble',\n",
              "  'https://materialdepot.in/collections/veneers',\n",
              "  'https://materialdepot.in/collections/wallpaper',\n",
              "  'https://materialdepot.in/collections/windows']}"
            ]
          },
          "metadata": {},
          "execution_count": 23
        }
      ],
      "source": [
        "temp_dict"
      ]
    },
    {
      "cell_type": "code",
      "execution_count": null,
      "metadata": {
        "id": "pZdnuad20oz4"
      },
      "outputs": [],
      "source": [
        "# Let's make the temp csv file which gonna contain category type and the urls\n",
        "import pandas as pd\n",
        "temp_df = pd.DataFrame(temp_dict)"
      ]
    },
    {
      "cell_type": "code",
      "execution_count": null,
      "metadata": {
        "colab": {
          "base_uri": "https://localhost:8080/",
          "height": 425
        },
        "id": "aYUSfZTG2Wuo",
        "outputId": "9d8cae5f-1bad-40f6-8812-bd1d6aa2f094"
      },
      "outputs": [
        {
          "output_type": "execute_result",
          "data": {
            "text/html": [
              "\n",
              "  <div id=\"df-0e13520a-4768-40cf-b944-c81d6324b1be\">\n",
              "    <div class=\"colab-df-container\">\n",
              "      <div>\n",
              "<style scoped>\n",
              "    .dataframe tbody tr th:only-of-type {\n",
              "        vertical-align: middle;\n",
              "    }\n",
              "\n",
              "    .dataframe tbody tr th {\n",
              "        vertical-align: top;\n",
              "    }\n",
              "\n",
              "    .dataframe thead th {\n",
              "        text-align: right;\n",
              "    }\n",
              "</style>\n",
              "<table border=\"1\" class=\"dataframe\">\n",
              "  <thead>\n",
              "    <tr style=\"text-align: right;\">\n",
              "      <th></th>\n",
              "      <th>Titles</th>\n",
              "      <th>URLs</th>\n",
              "    </tr>\n",
              "  </thead>\n",
              "  <tbody>\n",
              "    <tr>\n",
              "      <th>0</th>\n",
              "      <td>Bamboo Flooring</td>\n",
              "      <td>https://materialdepot.in/collections/bamboo-fl...</td>\n",
              "    </tr>\n",
              "    <tr>\n",
              "      <th>1</th>\n",
              "      <td>Carpets</td>\n",
              "      <td>https://materialdepot.in/collections/carpet</td>\n",
              "    </tr>\n",
              "    <tr>\n",
              "      <th>2</th>\n",
              "      <td>Curtains</td>\n",
              "      <td>https://materialdepot.in/collections/fabrics</td>\n",
              "    </tr>\n",
              "    <tr>\n",
              "      <th>3</th>\n",
              "      <td>Flooring</td>\n",
              "      <td>https://materialdepot.in/collections/flooring</td>\n",
              "    </tr>\n",
              "    <tr>\n",
              "      <th>4</th>\n",
              "      <td>GPG</td>\n",
              "      <td>https://materialdepot.in/collections/gpg</td>\n",
              "    </tr>\n",
              "    <tr>\n",
              "      <th>5</th>\n",
              "      <td>Granite</td>\n",
              "      <td>https://materialdepot.in/collections/granite</td>\n",
              "    </tr>\n",
              "    <tr>\n",
              "      <th>6</th>\n",
              "      <td>Laminate Flooring</td>\n",
              "      <td>https://materialdepot.in/collections/laminate-...</td>\n",
              "    </tr>\n",
              "    <tr>\n",
              "      <th>7</th>\n",
              "      <td>Laminates</td>\n",
              "      <td>https://materialdepot.in/collections/laminates</td>\n",
              "    </tr>\n",
              "    <tr>\n",
              "      <th>8</th>\n",
              "      <td>Marbles</td>\n",
              "      <td>https://materialdepot.in/collections/marble</td>\n",
              "    </tr>\n",
              "    <tr>\n",
              "      <th>9</th>\n",
              "      <td>Veneers</td>\n",
              "      <td>https://materialdepot.in/collections/veneers</td>\n",
              "    </tr>\n",
              "    <tr>\n",
              "      <th>10</th>\n",
              "      <td>Wallpaper</td>\n",
              "      <td>https://materialdepot.in/collections/wallpaper</td>\n",
              "    </tr>\n",
              "    <tr>\n",
              "      <th>11</th>\n",
              "      <td>Windows &amp; Doors</td>\n",
              "      <td>https://materialdepot.in/collections/windows</td>\n",
              "    </tr>\n",
              "  </tbody>\n",
              "</table>\n",
              "</div>\n",
              "      <button class=\"colab-df-convert\" onclick=\"convertToInteractive('df-0e13520a-4768-40cf-b944-c81d6324b1be')\"\n",
              "              title=\"Convert this dataframe to an interactive table.\"\n",
              "              style=\"display:none;\">\n",
              "        \n",
              "  <svg xmlns=\"http://www.w3.org/2000/svg\" height=\"24px\"viewBox=\"0 0 24 24\"\n",
              "       width=\"24px\">\n",
              "    <path d=\"M0 0h24v24H0V0z\" fill=\"none\"/>\n",
              "    <path d=\"M18.56 5.44l.94 2.06.94-2.06 2.06-.94-2.06-.94-.94-2.06-.94 2.06-2.06.94zm-11 1L8.5 8.5l.94-2.06 2.06-.94-2.06-.94L8.5 2.5l-.94 2.06-2.06.94zm10 10l.94 2.06.94-2.06 2.06-.94-2.06-.94-.94-2.06-.94 2.06-2.06.94z\"/><path d=\"M17.41 7.96l-1.37-1.37c-.4-.4-.92-.59-1.43-.59-.52 0-1.04.2-1.43.59L10.3 9.45l-7.72 7.72c-.78.78-.78 2.05 0 2.83L4 21.41c.39.39.9.59 1.41.59.51 0 1.02-.2 1.41-.59l7.78-7.78 2.81-2.81c.8-.78.8-2.07 0-2.86zM5.41 20L4 18.59l7.72-7.72 1.47 1.35L5.41 20z\"/>\n",
              "  </svg>\n",
              "      </button>\n",
              "      \n",
              "  <style>\n",
              "    .colab-df-container {\n",
              "      display:flex;\n",
              "      flex-wrap:wrap;\n",
              "      gap: 12px;\n",
              "    }\n",
              "\n",
              "    .colab-df-convert {\n",
              "      background-color: #E8F0FE;\n",
              "      border: none;\n",
              "      border-radius: 50%;\n",
              "      cursor: pointer;\n",
              "      display: none;\n",
              "      fill: #1967D2;\n",
              "      height: 32px;\n",
              "      padding: 0 0 0 0;\n",
              "      width: 32px;\n",
              "    }\n",
              "\n",
              "    .colab-df-convert:hover {\n",
              "      background-color: #E2EBFA;\n",
              "      box-shadow: 0px 1px 2px rgba(60, 64, 67, 0.3), 0px 1px 3px 1px rgba(60, 64, 67, 0.15);\n",
              "      fill: #174EA6;\n",
              "    }\n",
              "\n",
              "    [theme=dark] .colab-df-convert {\n",
              "      background-color: #3B4455;\n",
              "      fill: #D2E3FC;\n",
              "    }\n",
              "\n",
              "    [theme=dark] .colab-df-convert:hover {\n",
              "      background-color: #434B5C;\n",
              "      box-shadow: 0px 1px 3px 1px rgba(0, 0, 0, 0.15);\n",
              "      filter: drop-shadow(0px 1px 2px rgba(0, 0, 0, 0.3));\n",
              "      fill: #FFFFFF;\n",
              "    }\n",
              "  </style>\n",
              "\n",
              "      <script>\n",
              "        const buttonEl =\n",
              "          document.querySelector('#df-0e13520a-4768-40cf-b944-c81d6324b1be button.colab-df-convert');\n",
              "        buttonEl.style.display =\n",
              "          google.colab.kernel.accessAllowed ? 'block' : 'none';\n",
              "\n",
              "        async function convertToInteractive(key) {\n",
              "          const element = document.querySelector('#df-0e13520a-4768-40cf-b944-c81d6324b1be');\n",
              "          const dataTable =\n",
              "            await google.colab.kernel.invokeFunction('convertToInteractive',\n",
              "                                                     [key], {});\n",
              "          if (!dataTable) return;\n",
              "\n",
              "          const docLinkHtml = 'Like what you see? Visit the ' +\n",
              "            '<a target=\"_blank\" href=https://colab.research.google.com/notebooks/data_table.ipynb>data table notebook</a>'\n",
              "            + ' to learn more about interactive tables.';\n",
              "          element.innerHTML = '';\n",
              "          dataTable['output_type'] = 'display_data';\n",
              "          await google.colab.output.renderOutput(dataTable, element);\n",
              "          const docLink = document.createElement('div');\n",
              "          docLink.innerHTML = docLinkHtml;\n",
              "          element.appendChild(docLink);\n",
              "        }\n",
              "      </script>\n",
              "    </div>\n",
              "  </div>\n",
              "  "
            ],
            "text/plain": [
              "               Titles                                               URLs\n",
              "0     Bamboo Flooring  https://materialdepot.in/collections/bamboo-fl...\n",
              "1             Carpets        https://materialdepot.in/collections/carpet\n",
              "2            Curtains       https://materialdepot.in/collections/fabrics\n",
              "3            Flooring      https://materialdepot.in/collections/flooring\n",
              "4                 GPG           https://materialdepot.in/collections/gpg\n",
              "5             Granite       https://materialdepot.in/collections/granite\n",
              "6   Laminate Flooring  https://materialdepot.in/collections/laminate-...\n",
              "7           Laminates     https://materialdepot.in/collections/laminates\n",
              "8             Marbles        https://materialdepot.in/collections/marble\n",
              "9             Veneers       https://materialdepot.in/collections/veneers\n",
              "10          Wallpaper     https://materialdepot.in/collections/wallpaper\n",
              "11    Windows & Doors       https://materialdepot.in/collections/windows"
            ]
          },
          "metadata": {},
          "execution_count": 25
        }
      ],
      "source": [
        "temp_df"
      ]
    },
    {
      "cell_type": "code",
      "execution_count": null,
      "metadata": {
        "id": "YO-iWpr870y4",
        "colab": {
          "base_uri": "https://localhost:8080/"
        },
        "outputId": "73e8e3a1-a15c-48ba-fe8b-0324c4442b2c"
      },
      "outputs": [
        {
          "output_type": "stream",
          "name": "stdout",
          "text": [
            "https://materialdepot.in/collections/bamboo-flooring\n"
          ]
        },
        {
          "output_type": "execute_result",
          "data": {
            "text/plain": [
              "200"
            ]
          },
          "metadata": {},
          "execution_count": 26
        }
      ],
      "source": [
        "# Getting the category product page\n",
        "print(complete_category_urls[0])\n",
        "response2 = r.get(complete_category_urls[0])\n",
        "response2.status_code"
      ]
    },
    {
      "cell_type": "code",
      "execution_count": null,
      "metadata": {
        "colab": {
          "base_uri": "https://localhost:8080/"
        },
        "id": "mIZ4RzZx8Dkt",
        "outputId": "f40beba9-0191-4a8d-cbe8-38de3f4f9965"
      },
      "outputs": [
        {
          "output_type": "execute_result",
          "data": {
            "text/plain": [
              "201817"
            ]
          },
          "metadata": {},
          "execution_count": 27
        }
      ],
      "source": [
        "len(response2.text)"
      ]
    },
    {
      "cell_type": "code",
      "execution_count": null,
      "metadata": {
        "id": "ajIdd8BI_cgN"
      },
      "outputs": [],
      "source": [
        "# Document of the web page\n",
        "category_page = BeautifulSoup(response2.text, 'html.parser')"
      ]
    },
    {
      "cell_type": "code",
      "execution_count": null,
      "metadata": {
        "colab": {
          "base_uri": "https://localhost:8080/"
        },
        "id": "--Lv_nvz_zx8",
        "outputId": "e3a6aa9d-65c8-4d2b-debe-f271e143e256"
      },
      "outputs": [
        {
          "output_type": "execute_result",
          "data": {
            "text/plain": [
              "4"
            ]
          },
          "metadata": {},
          "execution_count": 29
        }
      ],
      "source": [
        "len(category_page)"
      ]
    },
    {
      "cell_type": "code",
      "execution_count": null,
      "metadata": {
        "id": "gFF5Gl3k_39I",
        "colab": {
          "base_uri": "https://localhost:8080/"
        },
        "outputId": "8b1f133a-bf46-4243-cb1a-12b448673907"
      },
      "outputs": [
        {
          "output_type": "execute_result",
          "data": {
            "text/plain": [
              "[<a class=\"col_cat_item_link product-item__title text--strong link\" href=\"/collections/bamboo-flooring/products/flooring-bm3611-jungle-wood-bamboo-flooring-by-inovar-floors\" onclick=\"amplitude.getInstance().logEvent('view-BM3611 Jungle Wood');\">BM3611 Ju ... (1)</a>,\n",
              " <a class=\"col_cat_item_link product-item__title text--strong link\" href=\"/collections/bamboo-flooring/products/flooring-bm3600-coffee-bamboo-flooring-by-inovar-floors\" onclick=\"amplitude.getInstance().logEvent('view-BM3600 Coffee');\">BM3600 Co ... (1)</a>,\n",
              " <a class=\"col_cat_item_link product-item__title text--strong link\" href=\"/collections/bamboo-flooring/products/flooring-bm3811-walnut-naturelle-bamboo-flooring-by-inovar-floors\" onclick=\"amplitude.getInstance().logEvent('view-BM3811 Walnut Naturelle');\">BM3811 Wa ... (1)</a>]"
            ]
          },
          "metadata": {},
          "execution_count": 30
        }
      ],
      "source": [
        "# Getting all the product of that category\n",
        "products = category_page.find_all('a', {'class':'col_cat_item_link product-item__title text--strong link'})\n",
        "products"
      ]
    },
    {
      "cell_type": "code",
      "execution_count": null,
      "metadata": {
        "colab": {
          "base_uri": "https://localhost:8080/"
        },
        "id": "H_yvRVldAHTL",
        "outputId": "c557232d-e6c6-47e7-8e95-f420876f9212"
      },
      "outputs": [
        {
          "output_type": "stream",
          "name": "stdout",
          "text": [
            "https://materialdepot.in/collections/bamboo-flooring/products/flooring-bm3611-jungle-wood-bamboo-flooring-by-inovar-floors\n"
          ]
        }
      ],
      "source": [
        "# Complete url of the product on the website\n",
        "print(base_url + products[0]['href'])"
      ]
    },
    {
      "cell_type": "code",
      "execution_count": null,
      "metadata": {
        "id": "S4byZ_WLAPgc"
      },
      "outputs": [],
      "source": [
        "# Function to get the urls for all of the products\n",
        "\n",
        "def get_products_url(category_urls):\n",
        "  products_url = []\n",
        "  for url in category_urls:\n",
        "    response = r.get(url)\n",
        "    doc = BeautifulSoup(response.text, 'html.parser')\n",
        "    products = doc.find_all('a', {'class':'col_cat_item_link product-item__title text--strong link'})\n",
        "    for product in products:\n",
        "      products_url.append(base_url + product['href'])\n",
        "  return products_url"
      ]
    },
    {
      "cell_type": "code",
      "execution_count": null,
      "metadata": {
        "id": "GngrNj_iJDX7"
      },
      "outputs": [],
      "source": [
        "products = get_products_url(complete_category_urls)"
      ]
    },
    {
      "cell_type": "code",
      "execution_count": null,
      "metadata": {
        "colab": {
          "base_uri": "https://localhost:8080/"
        },
        "id": "-VE5dgZXJMBk",
        "outputId": "44c2d2f6-42f7-4e08-c3e9-90d7fe2c6743"
      },
      "outputs": [
        {
          "output_type": "execute_result",
          "data": {
            "text/plain": [
              "['https://materialdepot.in/collections/bamboo-flooring/products/flooring-bm3611-jungle-wood-bamboo-flooring-by-inovar-floors',\n",
              " 'https://materialdepot.in/collections/bamboo-flooring/products/flooring-bm3600-coffee-bamboo-flooring-by-inovar-floors',\n",
              " 'https://materialdepot.in/collections/bamboo-flooring/products/flooring-bm3811-walnut-naturelle-bamboo-flooring-by-inovar-floors',\n",
              " 'https://materialdepot.in/collections/carpet/products/carpets-chintz-collection-golden-carpets-brown',\n",
              " 'https://materialdepot.in/collections/carpet/products/carpets-damask-collection-golden-carpets-light-brown']"
            ]
          },
          "metadata": {},
          "execution_count": 34
        }
      ],
      "source": [
        "products[:5]"
      ]
    },
    {
      "cell_type": "code",
      "execution_count": null,
      "metadata": {
        "id": "r5OEmEy4LuZH"
      },
      "outputs": [],
      "source": [
        "# Getting the required items for each of the products\n",
        "response3 = r.get(products[0])"
      ]
    },
    {
      "cell_type": "code",
      "execution_count": null,
      "metadata": {
        "colab": {
          "base_uri": "https://localhost:8080/"
        },
        "id": "yQdnyykaOQQz",
        "outputId": "cf7bf7a9-8a4b-47df-cd64-0f42a98326b8"
      },
      "outputs": [
        {
          "output_type": "execute_result",
          "data": {
            "text/plain": [
              "200"
            ]
          },
          "metadata": {},
          "execution_count": 36
        }
      ],
      "source": [
        "response3.status_code"
      ]
    },
    {
      "cell_type": "code",
      "execution_count": null,
      "metadata": {
        "id": "mnNbsp7KOTR1"
      },
      "outputs": [],
      "source": [
        "product_page = BeautifulSoup(response3.text, 'html.parser')"
      ]
    },
    {
      "cell_type": "code",
      "execution_count": null,
      "metadata": {
        "colab": {
          "base_uri": "https://localhost:8080/"
        },
        "id": "Mku0HU5EOZwu",
        "outputId": "339a72cb-03c3-4d4c-9c9d-0cd01ed6e0aa"
      },
      "outputs": [
        {
          "output_type": "execute_result",
          "data": {
            "text/plain": [
              "4"
            ]
          },
          "metadata": {},
          "execution_count": 38
        }
      ],
      "source": [
        "len(product_page)"
      ]
    },
    {
      "cell_type": "code",
      "execution_count": null,
      "metadata": {
        "id": "fRqbas0IObQd",
        "colab": {
          "base_uri": "https://localhost:8080/",
          "height": 36
        },
        "outputId": "4a2ea271-74c7-456d-8b75-f9e54f3ed09c"
      },
      "outputs": [
        {
          "output_type": "execute_result",
          "data": {
            "application/vnd.google.colaboratory.intrinsic+json": {
              "type": "string"
            },
            "text/plain": [
              "'BM3611 Jungle Wood'"
            ]
          },
          "metadata": {},
          "execution_count": 39
        }
      ],
      "source": [
        "# Title of the product\n",
        "title = product_page.find_all('h1', {'class': 'product-meta__title heading h1'})\n",
        "title[0].text"
      ]
    },
    {
      "cell_type": "code",
      "execution_count": null,
      "metadata": {
        "id": "bbmEHHN1Omck",
        "colab": {
          "base_uri": "https://localhost:8080/",
          "height": 36
        },
        "outputId": "3372fe6d-8949-433f-96c5-deee34790069"
      },
      "outputs": [
        {
          "output_type": "execute_result",
          "data": {
            "application/vnd.google.colaboratory.intrinsic+json": {
              "type": "string"
            },
            "text/plain": [
              "'BM3611-Jungle-Wood-Bamboo-Flooring'"
            ]
          },
          "metadata": {},
          "execution_count": 40
        }
      ],
      "source": [
        "# SKU number of the product\n",
        "sku_number = product_page.find_all('span', {'class': 'product-meta__sku-number'})\n",
        "sku_number[0].text"
      ]
    },
    {
      "cell_type": "code",
      "execution_count": null,
      "metadata": {
        "colab": {
          "base_uri": "https://localhost:8080/",
          "height": 36
        },
        "id": "o0xgpLgPPTJv",
        "outputId": "d0b12095-d6ce-4e1c-894f-341c2ce3e4e2"
      },
      "outputs": [
        {
          "output_type": "execute_result",
          "data": {
            "application/vnd.google.colaboratory.intrinsic+json": {
              "type": "string"
            },
            "text/plain": [
              "'Eco-friendly strand woven bamboo is a preferred option for solid hardwood flooring. High in density, these bamboo flooring offers both beauty and functionality.'"
            ]
          },
          "metadata": {},
          "execution_count": 41
        }
      ],
      "source": [
        "# Getting the description of the product\n",
        "parent_desc = product_page.find_all('div', {'class': 'rte text--pull'})\n",
        "product_desc = parent_desc[0].text.strip()\n",
        "product_desc"
      ]
    },
    {
      "cell_type": "code",
      "source": [
        "# Link of the product\n",
        "product_link = products[0]\n",
        "print(product_link)"
      ],
      "metadata": {
        "colab": {
          "base_uri": "https://localhost:8080/"
        },
        "id": "RUIoiG2jeBpc",
        "outputId": "ff131942-bb42-4ce4-91f5-3a228371a2ef"
      },
      "execution_count": null,
      "outputs": [
        {
          "output_type": "stream",
          "name": "stdout",
          "text": [
            "https://materialdepot.in/collections/bamboo-flooring/products/flooring-bm3611-jungle-wood-bamboo-flooring-by-inovar-floors\n"
          ]
        }
      ]
    },
    {
      "cell_type": "code",
      "source": [
        "# Getting the images of the product\n",
        "product_image = product_page.find_all('div', {'class': 'aspect-ratio'})\n",
        "product_image"
      ],
      "metadata": {
        "colab": {
          "base_uri": "https://localhost:8080/"
        },
        "id": "akSr-FWlemFJ",
        "outputId": "a54f737f-1809-461d-fc8e-fc0117d3c4f0"
      },
      "execution_count": null,
      "outputs": [
        {
          "output_type": "execute_result",
          "data": {
            "text/plain": [
              "[<div class=\"aspect-ratio aspect-ratio--square\">\n",
              " <div class=\"skeleton-image\"></div>\n",
              " </div>, <div class=\"aspect-ratio aspect-ratio--square\">\n",
              " <div class=\"skeleton-image\"></div>\n",
              " </div>, <div class=\"aspect-ratio aspect-ratio--square\">\n",
              " <div class=\"skeleton-image\"></div>\n",
              " </div>, <div class=\"aspect-ratio\" style=\"padding-bottom: 43.66640440597954%\">\n",
              " <img alt=\"BM3611 Jungle Wood | Bamboo Flooring by Inovar Floors | Material Depot 1\" class=\"product-gallery__image lazyload image--fade-in\" data-sizes=\"auto\" data-src=\"//cdn.shopify.com/s/files/1/0577/4242/6264/products/BM3611_Jungle_Wood_{width}x.png?v=1630737183\" data-widths=\"[400,500,600,700,800,900,1000,1100,1200]\" data-zoom=\"//cdn.shopify.com/s/files/1/0577/4242/6264/products/BM3611_Jungle_Wood_1600x.png?v=1630737183\" data-zoom-width=\"1271\"/>\n",
              " <noscript>\n",
              " <img alt=\"BM3611 Jungle Wood | Bamboo Flooring by Inovar Floors | Material Depot 1\" src=\"//cdn.shopify.com/s/files/1/0577/4242/6264/products/BM3611_Jungle_Wood_800x.png?v=1630737183\"/>\n",
              " </noscript>\n",
              " </div>, <div class=\"aspect-ratio\" style=\"padding-bottom: 42.196078431372555%\">\n",
              " <img alt=\"BM3611 Jungle Wood | Bamboo Flooring by Inovar Floors | Material Depot 2\" class=\"product-gallery__image lazyload image--fade-in\" data-sizes=\"auto\" data-src=\"//cdn.shopify.com/s/files/1/0577/4242/6264/products/Project_Applications_1_a0f53b28-21b3-4770-9359-f3d9cb769016_{width}x.png?v=1630737183\" data-widths=\"[400,500,600,700,800,900,1000,1100,1200]\" data-zoom=\"//cdn.shopify.com/s/files/1/0577/4242/6264/products/Project_Applications_1_a0f53b28-21b3-4770-9359-f3d9cb769016_1600x.png?v=1630737183\" data-zoom-width=\"1275\"/>\n",
              " <noscript>\n",
              " <img alt=\"BM3611 Jungle Wood | Bamboo Flooring by Inovar Floors | Material Depot 2\" src=\"//cdn.shopify.com/s/files/1/0577/4242/6264/products/Project_Applications_1_a0f53b28-21b3-4770-9359-f3d9cb769016_800x.png?v=1630737183\"/>\n",
              " </noscript>\n",
              " </div>, <div class=\"aspect-ratio\" style=\"padding-bottom: 43.66640440597954%\">\n",
              " <img alt=\"BM3611 Jungle Wood | Bamboo Flooring by Inovar Floors | Material Depot 1\" class=\"image--fade-in lazyload\" data-src=\"//cdn.shopify.com/s/files/1/0577/4242/6264/products/BM3611_Jungle_Wood_130x.png?v=1630737183\"/>\n",
              " </div>, <div class=\"aspect-ratio\" style=\"padding-bottom: 42.196078431372555%\">\n",
              " <img alt=\"BM3611 Jungle Wood | Bamboo Flooring by Inovar Floors | Material Depot 2\" class=\"image--fade-in lazyload\" data-src=\"//cdn.shopify.com/s/files/1/0577/4242/6264/products/Project_Applications_1_a0f53b28-21b3-4770-9359-f3d9cb769016_130x.png?v=1630737183\"/>\n",
              " </div>]"
            ]
          },
          "metadata": {},
          "execution_count": 43
        }
      ]
    },
    {
      "cell_type": "code",
      "source": [
        "images_link = []\n",
        "for product in product_image:\n",
        "  link = product.find('img')\n",
        "  images_link.append(link)\n",
        "images_link"
      ],
      "metadata": {
        "colab": {
          "base_uri": "https://localhost:8080/"
        },
        "id": "KMf1h3LGfemu",
        "outputId": "8c2b2732-f977-4765-994d-8d03dde05eb8"
      },
      "execution_count": null,
      "outputs": [
        {
          "output_type": "execute_result",
          "data": {
            "text/plain": [
              "[None,\n",
              " None,\n",
              " None,\n",
              " <img alt=\"BM3611 Jungle Wood | Bamboo Flooring by Inovar Floors | Material Depot 1\" class=\"product-gallery__image lazyload image--fade-in\" data-sizes=\"auto\" data-src=\"//cdn.shopify.com/s/files/1/0577/4242/6264/products/BM3611_Jungle_Wood_{width}x.png?v=1630737183\" data-widths=\"[400,500,600,700,800,900,1000,1100,1200]\" data-zoom=\"//cdn.shopify.com/s/files/1/0577/4242/6264/products/BM3611_Jungle_Wood_1600x.png?v=1630737183\" data-zoom-width=\"1271\"/>,\n",
              " <img alt=\"BM3611 Jungle Wood | Bamboo Flooring by Inovar Floors | Material Depot 2\" class=\"product-gallery__image lazyload image--fade-in\" data-sizes=\"auto\" data-src=\"//cdn.shopify.com/s/files/1/0577/4242/6264/products/Project_Applications_1_a0f53b28-21b3-4770-9359-f3d9cb769016_{width}x.png?v=1630737183\" data-widths=\"[400,500,600,700,800,900,1000,1100,1200]\" data-zoom=\"//cdn.shopify.com/s/files/1/0577/4242/6264/products/Project_Applications_1_a0f53b28-21b3-4770-9359-f3d9cb769016_1600x.png?v=1630737183\" data-zoom-width=\"1275\"/>,\n",
              " <img alt=\"BM3611 Jungle Wood | Bamboo Flooring by Inovar Floors | Material Depot 1\" class=\"image--fade-in lazyload\" data-src=\"//cdn.shopify.com/s/files/1/0577/4242/6264/products/BM3611_Jungle_Wood_130x.png?v=1630737183\"/>,\n",
              " <img alt=\"BM3611 Jungle Wood | Bamboo Flooring by Inovar Floors | Material Depot 2\" class=\"image--fade-in lazyload\" data-src=\"//cdn.shopify.com/s/files/1/0577/4242/6264/products/Project_Applications_1_a0f53b28-21b3-4770-9359-f3d9cb769016_130x.png?v=1630737183\"/>]"
            ]
          },
          "metadata": {},
          "execution_count": 44
        }
      ]
    },
    {
      "cell_type": "code",
      "source": [
        "print(images_link[3]['data-src'])"
      ],
      "metadata": {
        "colab": {
          "base_uri": "https://localhost:8080/"
        },
        "id": "1Hplau2qfv7o",
        "outputId": "ab4a7a3b-91b3-41ed-9256-00bbb94320a6"
      },
      "execution_count": null,
      "outputs": [
        {
          "output_type": "stream",
          "name": "stdout",
          "text": [
            "//cdn.shopify.com/s/files/1/0577/4242/6264/products/BM3611_Jungle_Wood_{width}x.png?v=1630737183\n"
          ]
        }
      ]
    },
    {
      "cell_type": "code",
      "source": [
        "# Getting the specification of the product\n",
        "spec_html = product_page.find_all('span', {'class': 'tag-body'})\n",
        "spec_html"
      ],
      "metadata": {
        "id": "O15nCS65j_Gr",
        "colab": {
          "base_uri": "https://localhost:8080/"
        },
        "outputId": "e4b2cfb0-1cb8-48d5-b837-8de8c68611dc"
      },
      "execution_count": null,
      "outputs": [
        {
          "output_type": "execute_result",
          "data": {
            "text/plain": [
              "[<span class=\"tag-body\">\n",
              " <span class=\"tag-label text--strong\">\n",
              "             Categories:  \n",
              "             </span>Bamboo Flooring\n",
              "             </span>, <span class=\"tag-body\">\n",
              " <span class=\"tag-label text--strong\">\n",
              "             Color:  \n",
              "             </span>Dark Brown\n",
              "             </span>, <span class=\"tag-body\">\n",
              " <span class=\"tag-label text--strong\">\n",
              "             Form:  \n",
              "             </span>Plank\n",
              "             </span>, <span class=\"tag-body\">\n",
              " <span class=\"tag-label text--strong\">\n",
              "             Indoor/Outdoor:  \n",
              "             </span>Indoor\n",
              "             </span>, <span class=\"tag-body\">\n",
              " <span class=\"tag-label text--strong\">\n",
              "             Tags:  \n",
              "             </span> Formaldehyde Emission - E0, Gloss, Solid Moso Bamboo, Surface - Gloss - 10%, Termite Resistant, Texture-Gloss - 60%, Water Resistant\n",
              "             </span>, <span class=\"tag-body\">\n",
              " <span class=\"tag-label text--strong\">\n",
              "             Thickness:  \n",
              "             </span>14mm\n",
              "             </span>, <span class=\"tag-body\">\n",
              " <span class=\"tag-label text--strong\">\n",
              "             Type of Project:  \n",
              "             </span>Commercial, Hospitality, Residential\n",
              "             </span>, <span class=\"tag-body\">\n",
              " <span class=\"tag-label text--strong\">\n",
              "             Weight:  \n",
              "             </span>22kg Per Box\n",
              "             </span>]"
            ]
          },
          "metadata": {},
          "execution_count": 46
        }
      ]
    },
    {
      "cell_type": "code",
      "source": [
        "# Getting the details of the product\n",
        "spec = []\n",
        "for s in spec_html:\n",
        "  i = s.text.split(':')[1].strip()\n",
        "  spec.append(i)\n",
        "\n",
        "spec"
      ],
      "metadata": {
        "colab": {
          "base_uri": "https://localhost:8080/"
        },
        "id": "XP0YhxU7m8h2",
        "outputId": "c77e9c57-2236-4a49-8e25-c55b18750d41"
      },
      "execution_count": null,
      "outputs": [
        {
          "output_type": "execute_result",
          "data": {
            "text/plain": [
              "['Bamboo Flooring',\n",
              " 'Dark Brown',\n",
              " 'Plank',\n",
              " 'Indoor',\n",
              " 'Formaldehyde Emission - E0, Gloss, Solid Moso Bamboo, Surface - Gloss - 10%, Termite Resistant, Texture-Gloss - 60%, Water Resistant',\n",
              " '14mm',\n",
              " 'Commercial, Hospitality, Residential',\n",
              " '22kg Per Box']"
            ]
          },
          "metadata": {},
          "execution_count": 47
        }
      ]
    },
    {
      "cell_type": "code",
      "source": [
        "# Getting the web page of the product\n",
        "def get_product_page(products_urls):\n",
        "  for product in products_urls:\n",
        "    response3 = r.get(product)\n",
        "    doc3 = BeautifulSoup(response3.text, 'html.parser')\n",
        "  return get_product_info(doc3, product)\n",
        "\n",
        "# Function to get the specification of the product\n",
        "def get_specs(product_doc):\n",
        "  temp_specs = product_doc.find_all('span', {'class': 'tag-body'})\n",
        "  info = []\n",
        "  for x in temp_specs:\n",
        "    i = x.text.split(':')[1].strip()\n",
        "    info.append(i)\n",
        "  return info\n",
        "\n",
        "# Function to get the image of the product\n",
        "def get_image_link(product_doc):\n",
        "  product_images = product_doc.find_all('div', {'class': 'aspect-ratio'})\n",
        "  temp_link = []\n",
        "  for product in product_images:\n",
        "    link = product.find('img')\n",
        "    temp_link.append(link)\n",
        "  return temp_link\n",
        "\n",
        "# Function to find all above thing for all products\n",
        "def get_product_info(products_doc, url):\n",
        "  product_info_dict = {\n",
        "      'Name': [], 'SKU': [], 'Product_link': [], 'Image': [], \n",
        "      'Description': [], 'Color': [], 'Form': [], 'Application': [], 'Tags': [],\n",
        "      'Thickness': [], 'Project_type': [], 'Weight': [], 'Category':[] \n",
        "      }\n",
        "  \n",
        "  # Link of the product\n",
        "  product_info_dict['Product_link'].append(url)\n",
        "\n",
        "  # Title of the product\n",
        "  title = products_doc.find_all('h1', {'class': 'product-meta__title heading h1'})\n",
        "  t = title[0].text\n",
        "  product_info_dict['Name'].append(t[1:-1])\n",
        "\n",
        "  # SKU number\n",
        "  sku_number = products_doc.find_all('span', {'class': 'product-meta__sku-number'})\n",
        "  product_info_dict['SKU'].append(sku_number[0].text)\n",
        "\n",
        "  # Description of the product\n",
        "  parent_desc = products_doc.find_all('div', {'class': 'rte text--pull'})\n",
        "  product_info_dict['Description'].append(parent_desc[0].text.strip())\n",
        "\n",
        "  # Image of the product\n",
        "  image_link = get_image_link(products_doc)\n",
        "  product_info_dict['Image'].append(image_link[3]['data-src'])\n",
        "\n",
        "  # Information of the product\n",
        "  info = get_specs(products_doc)\n",
        "  product_info_dict['Category'].append(info[0])\n",
        "  product_info_dict['Color'].append(info[1])\n",
        "  product_info_dict['Form'].append(info[2])\n",
        "  product_info_dict['Application'].append(info[3])\n",
        "  product_info_dict['Tags'].append(info[4])\n",
        "  product_info_dict['Thickness'].append(info[5])\n",
        "  product_info_dict['Project_type'].append(info[6])\n",
        "  product_info_dict['Weight'].append(info[7])\n",
        "\n",
        "  return pd.DataFrame(product_info_dict)"
      ],
      "metadata": {
        "id": "deAdKw37SkTO"
      },
      "execution_count": null,
      "outputs": []
    },
    {
      "cell_type": "code",
      "source": [
        "df = get_product_page(products)\n",
        "df"
      ],
      "metadata": {
        "colab": {
          "base_uri": "https://localhost:8080/"
        },
        "id": "ZrvhvBZvXZLJ",
        "outputId": "65d0516e-6aa0-4aa9-9c4b-d2c1c585f01f"
      },
      "execution_count": null,
      "outputs": [
        {
          "output_type": "execute_result",
          "data": {
            "text/html": [
              "\n",
              "  <div id=\"df-886448ff-b26e-4577-8404-e57bf2a8fe13\">\n",
              "    <div class=\"colab-df-container\">\n",
              "      <div>\n",
              "<style scoped>\n",
              "    .dataframe tbody tr th:only-of-type {\n",
              "        vertical-align: middle;\n",
              "    }\n",
              "\n",
              "    .dataframe tbody tr th {\n",
              "        vertical-align: top;\n",
              "    }\n",
              "\n",
              "    .dataframe thead th {\n",
              "        text-align: right;\n",
              "    }\n",
              "</style>\n",
              "<table border=\"1\" class=\"dataframe\">\n",
              "  <thead>\n",
              "    <tr style=\"text-align: right;\">\n",
              "      <th></th>\n",
              "      <th>Name</th>\n",
              "      <th>SKU</th>\n",
              "      <th>Product_link</th>\n",
              "      <th>Image</th>\n",
              "      <th>Description</th>\n",
              "      <th>Color</th>\n",
              "      <th>Form</th>\n",
              "      <th>Application</th>\n",
              "      <th>Tags</th>\n",
              "      <th>Thickness</th>\n",
              "      <th>Project_type</th>\n",
              "      <th>Weight</th>\n",
              "      <th>Category</th>\n",
              "    </tr>\n",
              "  </thead>\n",
              "  <tbody>\n",
              "    <tr>\n",
              "      <th>0</th>\n",
              "      <td>arta Kossipo from Duria</td>\n",
              "      <td></td>\n",
              "      <td>https://materialdepot.in/collections/windows/p...</td>\n",
              "      <td>//cdn.shopify.com/s/files/1/0577/4242/6264/pro...</td>\n",
              "      <td>General Specifications\\n+ \\n \\nGeneral Specifi...</td>\n",
              "      <td>Matt Polish</td>\n",
              "      <td>PU Polish</td>\n",
              "      <td>Natural Veneer</td>\n",
              "      <td>₹ 30426</td>\n",
              "      <td>6 in x 6 in</td>\n",
              "      <td>Plain</td>\n",
              "      <td>30 mm</td>\n",
              "      <td>Doors</td>\n",
              "    </tr>\n",
              "  </tbody>\n",
              "</table>\n",
              "</div>\n",
              "      <button class=\"colab-df-convert\" onclick=\"convertToInteractive('df-886448ff-b26e-4577-8404-e57bf2a8fe13')\"\n",
              "              title=\"Convert this dataframe to an interactive table.\"\n",
              "              style=\"display:none;\">\n",
              "        \n",
              "  <svg xmlns=\"http://www.w3.org/2000/svg\" height=\"24px\"viewBox=\"0 0 24 24\"\n",
              "       width=\"24px\">\n",
              "    <path d=\"M0 0h24v24H0V0z\" fill=\"none\"/>\n",
              "    <path d=\"M18.56 5.44l.94 2.06.94-2.06 2.06-.94-2.06-.94-.94-2.06-.94 2.06-2.06.94zm-11 1L8.5 8.5l.94-2.06 2.06-.94-2.06-.94L8.5 2.5l-.94 2.06-2.06.94zm10 10l.94 2.06.94-2.06 2.06-.94-2.06-.94-.94-2.06-.94 2.06-2.06.94z\"/><path d=\"M17.41 7.96l-1.37-1.37c-.4-.4-.92-.59-1.43-.59-.52 0-1.04.2-1.43.59L10.3 9.45l-7.72 7.72c-.78.78-.78 2.05 0 2.83L4 21.41c.39.39.9.59 1.41.59.51 0 1.02-.2 1.41-.59l7.78-7.78 2.81-2.81c.8-.78.8-2.07 0-2.86zM5.41 20L4 18.59l7.72-7.72 1.47 1.35L5.41 20z\"/>\n",
              "  </svg>\n",
              "      </button>\n",
              "      \n",
              "  <style>\n",
              "    .colab-df-container {\n",
              "      display:flex;\n",
              "      flex-wrap:wrap;\n",
              "      gap: 12px;\n",
              "    }\n",
              "\n",
              "    .colab-df-convert {\n",
              "      background-color: #E8F0FE;\n",
              "      border: none;\n",
              "      border-radius: 50%;\n",
              "      cursor: pointer;\n",
              "      display: none;\n",
              "      fill: #1967D2;\n",
              "      height: 32px;\n",
              "      padding: 0 0 0 0;\n",
              "      width: 32px;\n",
              "    }\n",
              "\n",
              "    .colab-df-convert:hover {\n",
              "      background-color: #E2EBFA;\n",
              "      box-shadow: 0px 1px 2px rgba(60, 64, 67, 0.3), 0px 1px 3px 1px rgba(60, 64, 67, 0.15);\n",
              "      fill: #174EA6;\n",
              "    }\n",
              "\n",
              "    [theme=dark] .colab-df-convert {\n",
              "      background-color: #3B4455;\n",
              "      fill: #D2E3FC;\n",
              "    }\n",
              "\n",
              "    [theme=dark] .colab-df-convert:hover {\n",
              "      background-color: #434B5C;\n",
              "      box-shadow: 0px 1px 3px 1px rgba(0, 0, 0, 0.15);\n",
              "      filter: drop-shadow(0px 1px 2px rgba(0, 0, 0, 0.3));\n",
              "      fill: #FFFFFF;\n",
              "    }\n",
              "  </style>\n",
              "\n",
              "      <script>\n",
              "        const buttonEl =\n",
              "          document.querySelector('#df-886448ff-b26e-4577-8404-e57bf2a8fe13 button.colab-df-convert');\n",
              "        buttonEl.style.display =\n",
              "          google.colab.kernel.accessAllowed ? 'block' : 'none';\n",
              "\n",
              "        async function convertToInteractive(key) {\n",
              "          const element = document.querySelector('#df-886448ff-b26e-4577-8404-e57bf2a8fe13');\n",
              "          const dataTable =\n",
              "            await google.colab.kernel.invokeFunction('convertToInteractive',\n",
              "                                                     [key], {});\n",
              "          if (!dataTable) return;\n",
              "\n",
              "          const docLinkHtml = 'Like what you see? Visit the ' +\n",
              "            '<a target=\"_blank\" href=https://colab.research.google.com/notebooks/data_table.ipynb>data table notebook</a>'\n",
              "            + ' to learn more about interactive tables.';\n",
              "          element.innerHTML = '';\n",
              "          dataTable['output_type'] = 'display_data';\n",
              "          await google.colab.output.renderOutput(dataTable, element);\n",
              "          const docLink = document.createElement('div');\n",
              "          docLink.innerHTML = docLinkHtml;\n",
              "          element.appendChild(docLink);\n",
              "        }\n",
              "      </script>\n",
              "    </div>\n",
              "  </div>\n",
              "  "
            ],
            "text/plain": [
              "                      Name SKU  ... Weight Category\n",
              "0  arta Kossipo from Duria      ...  30 mm    Doors\n",
              "\n",
              "[1 rows x 13 columns]"
            ]
          },
          "metadata": {},
          "execution_count": 49
        }
      ]
    },
    {
      "cell_type": "code",
      "source": [
        "# Function to find all above thing for all products\n",
        "def createData(products):\n",
        "  product_titles = []\n",
        "  sku = []\n",
        "  product_link = []\n",
        "  image_link = []\n",
        "  product_desc = []\n",
        "  color = []\n",
        "  form = []\n",
        "  application = []\n",
        "  tags = []\n",
        "  thickness = []\n",
        "  type_of_project = []\n",
        "  weight = []\n",
        "  category = []\n",
        "  product_feat = []\n",
        "  \n",
        "  for product in products:\n",
        "    # Link of the product\n",
        "    product_link.append(product)\n",
        "\n",
        "    response3 = r.get(product)\n",
        "    doc3 = BeautifulSoup(response3.text, 'html.parser')\n",
        "\n",
        "    # Title of the product\n",
        "    title = doc3.find_all('h1', {'class': 'product-meta__title heading h1'})\n",
        "    t = title[0].text\n",
        "    product_titles.append(t[1:-1])\n",
        "\n",
        "    # SKU number\n",
        "    sku_number = doc3.find_all('span', {'class': 'product-meta__sku-number'})\n",
        "    sku.append(sku_number[0].text)\n",
        "\n",
        "    # Description of the product\n",
        "    parent_desc = doc3.find_all('div', {'class': 'rte text--pull'})\n",
        "    product_desc.append(parent_desc[0].text.strip())\n",
        "\n",
        "    # Image of the product\n",
        "    product_images = doc3.find_all('div', {'class': 'aspect-ratio'})\n",
        "    temp_link = []\n",
        "    for product in product_images:\n",
        "      link = product.find('img')\n",
        "      temp_link.append(link)\n",
        "    image_link.append(temp_link[3]['data-src'])\n",
        "\n",
        "    # Information of the product\n",
        "    initial_info = doc3.find_all('span', {'class': 'tag-body'})\n",
        "    info = []\n",
        "    for x in initial_info:\n",
        "      i = x.text.split(':')[1].strip()\n",
        "      info.append(i)\n",
        "    category.append(info[0])\n",
        "    color.append(info[1])\n",
        "    form.append(info[2])\n",
        "    application.append(info[3])\n",
        "    tags.append(info[4])\n",
        "    thickness.append(info[5])\n",
        "    type_of_project.append(info[6])\n",
        "    weight.append(info[7])\n",
        "\n",
        "  return {'Title' : title, 'SKU': sku, 'Product Link': product_link, \n",
        "          'Image': image_link, 'Description' : product_desc, \n",
        "          'Category' : category, 'Color' : color, 'Form' : form, \n",
        "          'Application' : application, 'Tags' : tags, 'Thickness' : thickness, \n",
        "          'Project type' : type_of_project, 'Weight': weight}"
      ],
      "metadata": {
        "id": "4MUkOZzPoHSw"
      },
      "execution_count": null,
      "outputs": []
    },
    {
      "cell_type": "code",
      "source": [
        "result = createData(products)"
      ],
      "metadata": {
        "id": "y1VbikYxcOYy"
      },
      "execution_count": null,
      "outputs": []
    },
    {
      "cell_type": "code",
      "source": [
        "df.head()"
      ],
      "metadata": {
        "id": "HCv0g0x0d2QP"
      },
      "execution_count": null,
      "outputs": []
    },
    {
      "cell_type": "code",
      "source": [
        ""
      ],
      "metadata": {
        "id": "3qFlPje0wSuU"
      },
      "execution_count": null,
      "outputs": []
    }
  ],
  "metadata": {
    "colab": {
      "name": "web-scraping.ipynb",
      "provenance": [],
      "collapsed_sections": [],
      "include_colab_link": true
    },
    "kernelspec": {
      "display_name": "Python 3",
      "language": "python",
      "name": "python3"
    },
    "language_info": {
      "codemirror_mode": {
        "name": "ipython",
        "version": 3
      },
      "file_extension": ".py",
      "mimetype": "text/x-python",
      "name": "python",
      "nbconvert_exporter": "python",
      "pygments_lexer": "ipython3",
      "version": "3.7.6"
    }
  },
  "nbformat": 4,
  "nbformat_minor": 0
}